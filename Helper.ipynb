{
 "cells": [
  {
   "cell_type": "code",
   "execution_count": 7,
   "metadata": {
    "ExecuteTime": {
     "end_time": "2020-04-20T18:25:35.436023Z",
     "start_time": "2020-04-20T18:25:35.422487Z"
    },
    "code_folding": []
   },
   "outputs": [],
   "source": [
    "import numpy as np\n",
    "import pandas as pd\n",
    "import matplotlib.pyplot as plt\n",
    "import seaborn as sns\n",
    "import quantstats as qs\n",
    "import statistics as st\n",
    "from datetime import datetime, timedelta\n",
    "from matplotlib.colors import DivergingNorm\n",
    "from scipy.signal import convolve2d\n",
    "import import_ipynb\n",
    "from IPython.core.display import HTML\n",
    "HTML(\"\"\"<style>.output_png img {display: block;margin-left: auto;margin-right: auto;} </style>\"\"\")"
   ]
  },
  {
   "cell_type": "code",
   "execution_count": null,
   "metadata": {},
   "outputs": [],
   "source": [
    "qs.extend_pandas()\n",
    "plt.rcParams['figure.figsize'] = (26,12)\n",
    "plt.rcParams['text.color'] = 'w'\n",
    "plt.rcParams['legend.facecolor'] = '#2f3540'\n",
    "plt.rcParams['xtick.color'] = 'w'\n",
    "plt.rcParams['ytick.color'] = 'w'\n",
    "plt.rcParams['axes.labelcolor'] = 'w'\n",
    "\n",
    "SMALL_SIZE = 13\n",
    "MEDIUM_SIZE = 15\n",
    "BIG_SIZE = 17\n",
    "plt.rcParams['font.size'] = SMALL_SIZE\n",
    "plt.rcParams['axes.titlesize'] = BIG_SIZE\n",
    "plt.rcParams['axes.labelsize'] = MEDIUM_SIZE\n",
    "plt.rcParams['xtick.labelsize'] = MEDIUM_SIZE\n",
    "plt.rcParams['ytick.labelsize'] = MEDIUM_SIZE\n",
    "plt.rcParams['legend.fontsize'] = SMALL_SIZE\n",
    "plt.rcParams['figure.titlesize'] = BIG_SIZE\n",
    "\n",
    "np.set_printoptions(edgeitems=10, linewidth=1000) "
   ]
  },
  {
   "cell_type": "code",
   "execution_count": 13,
   "metadata": {
    "ExecuteTime": {
     "end_time": "2020-04-20T19:21:20.924269Z",
     "start_time": "2020-04-20T19:21:20.915193Z"
    },
    "code_folding": []
   },
   "outputs": [],
   "source": [
    "# Load DF with SP500 data\n",
    "def get_sp500_data(start_date=\"1970-01-02\", from_local_file=True, save_to_file=False):\n",
    "    if from_local_file == True:\n",
    "        data = pd.read_pickle('data/SP500_hist_data.pkl')\n",
    "        return data\n",
    "    else:\n",
    "        # Download data from yfinance\n",
    "        data = yf.download(\"^GSPC\", auto_adjust=True, start=start_date)\n",
    "        if save_to_file == True:\n",
    "            data.to_pickle(\"data/SP500_hist_data.pkl\")\n",
    "        return data"
   ]
  },
  {
   "cell_type": "code",
   "execution_count": 13,
   "metadata": {
    "ExecuteTime": {
     "end_time": "2020-04-20T17:59:49.041783Z",
     "start_time": "2020-04-20T17:59:49.034418Z"
    },
    "code_folding": []
   },
   "outputs": [],
   "source": [
    "# Define if the strategy position (1=fast_ma higher than slow_ma, -1=short)\n",
    "def get_strategy_position(df, fast_ma=1, slow_ma=1):\n",
    "    full_df = get_sp500_data()\n",
    "    df['fast_ma'] = full_df['Close'].rolling(window=fast_ma).mean()\n",
    "    df['slow_ma'] = full_df['Close'].rolling(window=slow_ma).mean()\n",
    "    df['fast-slow'] = df['fast_ma'] - df['slow_ma']\n",
    "    return np.where(df['fast-slow'] < 0, -1, 1)"
   ]
  },
  {
   "cell_type": "code",
   "execution_count": 15,
   "metadata": {
    "ExecuteTime": {
     "end_time": "2020-04-20T18:02:09.953039Z",
     "start_time": "2020-04-20T18:02:09.946090Z"
    },
    "code_folding": []
   },
   "outputs": [],
   "source": [
    "def print_periods(IS_start_years, IS_end_years, OOS_start_years, OOS_end_years):\n",
    "    print(\"\\tIn SAMPLE\\t\\tOOS\")\n",
    "    for iss, ie, oi, oe in zip(IS_start_years, IS_end_years, OOS_start_years, OOS_end_years):\n",
    "        print(\"{:%Y-%m-%d} {:%Y-%m-%d} \\t {:%Y-%m-%d} {:%Y-%m-%d}\".format(iss, ie, oi, oe))"
   ]
  },
  {
   "cell_type": "code",
   "execution_count": 42,
   "metadata": {
    "ExecuteTime": {
     "end_time": "2020-04-21T04:21:19.485505Z",
     "start_time": "2020-04-21T04:21:19.469716Z"
    },
    "code_folding": []
   },
   "outputs": [],
   "source": [
    "def print_backtest_stats(df, fast_ma, slow_ma, ret_strat=np.nan, sr_strat=np.nan):\n",
    "    ini_equity = 100\n",
    "    if 'Market_cum_ret' not in df.columns:\n",
    "        df['Market_cum_ret'] = df['Market_daily_ret'].add(1).cumprod().mul(ini_equity)\n",
    "        df.loc[df.index.values[0], 'Market_cum_ret'] = ini_equity + df.loc[first_row, 'Market_daily_ret'] * 100\n",
    "        \n",
    "    ret_market = (df.loc[df.index.values[-1], 'Market_cum_ret'] / ini_equity) * 100\n",
    "    sr_market = df['Market_cum_ret'].sharpe()\n",
    "    \n",
    "    print(\"\\tPeriod: {:%Y-%m-%d} to {:%Y-%m-%d}\".format(df.index[0], df.index[-1]))\n",
    "    print(\"\\tOverall return of SP500: {:.2f} %. SR of SP500: {:.2f}\".format(ret_market, sr_market))\n",
    "    if fast_ma >= slow_ma:\n",
    "        print(\"\\tOverall return of long only: {:.2f} %. Sharpe ratio strategy: {:.2f}\".format(ret_strat, sr_strat))\n",
    "    else:\n",
    "        print(\"\\tOverall return of {}-{} MA crossover: {:.2f} %. Sharpe ratio strategy: {:.2f}\".format(fast_ma, slow_ma, ret_strat, sr_strat))\n",
    "\n",
    "    return"
   ]
  },
  {
   "cell_type": "code",
   "execution_count": 40,
   "metadata": {
    "ExecuteTime": {
     "end_time": "2020-04-21T03:03:45.167412Z",
     "start_time": "2020-04-21T03:03:45.151313Z"
    },
    "code_folding": []
   },
   "outputs": [],
   "source": [
    "def backtest_ma_strat(df, fast_ma, slow_ma, ini_equity=100, commision=0.001):\n",
    "    \"\"\"\n",
    "    backtest_ma_strat does the backtest of an MA crossover strategy. It adds the following columns to the received dataframe:\n",
    "    - Strat_position: Position of the strategy on the index. 1:long, -1:short\n",
    "    - Market_daily_ret: daily returns of the benchmark\n",
    "    - Strat_daily_ret: daily returns of the strategy\n",
    "    - Market_cum_ret: daily cummulative returns of the benchmark\n",
    "    - Strat_cum_ret: daily cummulative returns of the strategy\n",
    "\n",
    "    Args:  \n",
    "        df (DataFrame): df with 'Close' returns of the benchmark\n",
    "        fast_ma (int): fast moving average\n",
    "        slow_ma (int): slow moving average\n",
    "        ini_equity (int): initial equity to be invested in the benchmark and strategy. 100 by default\n",
    "\n",
    "    Returns\n",
    "        df['Strat_daily_ret'] (pd.Series): Daily returns of the strategy\n",
    "        ret_strat (float): final value of the investment on the strategy\n",
    "        sr_strat (float): Sharpe Ratio of the strategy\n",
    "    \"\"\"\n",
    "    if (fast_ma >= slow_ma):\n",
    "        df['Strat_position'] = 1\n",
    "    else:\n",
    "        df['Strat_position'] = get_strategy_position(df.copy(), fast_ma, slow_ma)\n",
    "\n",
    "    # Create columns daily returns of market and strategy. In percentage. Also cummulative returns starting with an equity of 100$\n",
    "    df['Strat_daily_ret'] = df['Market_daily_ret'].mul(\n",
    "        df['Strat_position'].shift(1).fillna(method='bfill', limit=1))\n",
    "\n",
    "    if commision > 0:\n",
    "        df['Strat_daily_ret'].where(df['Strat_position'] == df['Strat_position'].shift(1).fillna(method='bfill', limit=1),\n",
    "                                    other=df['Strat_daily_ret'].sub(commision),\n",
    "                                    inplace=True)\n",
    "\n",
    "    first_day = df.index.values[0]\n",
    "    df['Market_cum_ret'] = df['Market_daily_ret'].add(1).cumprod().mul(ini_equity)\n",
    "    df['Strat_cum_ret'] = df['Strat_daily_ret'].add(1).cumprod().mul(ini_equity)\n",
    "    df.loc[first_day, 'Market_cum_ret'] = ini_equity + df.loc[first_day, 'Market_daily_ret'] * ini_equity\n",
    "    df.loc[first_day, 'Strat_cum_ret'] = ini_equity + df.loc[first_day,'Market_daily_ret'] * df.loc[first_day, 'Strat_position'] * ini_equity\n",
    "\n",
    "    ret_strat = df['Strat_cum_ret'][-1]\n",
    "    sr_strat = df['Strat_cum_ret'].sharpe()\n",
    "\n",
    "    return df['Strat_daily_ret'], ret_strat, sr_strat"
   ]
  },
  {
   "cell_type": "code",
   "execution_count": 20,
   "metadata": {
    "ExecuteTime": {
     "end_time": "2020-04-20T19:34:31.272817Z",
     "start_time": "2020-04-20T19:34:31.260854Z"
    },
    "code_folding": []
   },
   "outputs": [],
   "source": [
    "def run_all_combinations(df, fast_ma, slow_ma):\n",
    "    \"\"\"\n",
    "    Runs a backtest with all possible combinations and returns 2 matrices, one with pnl results, and one with SR\n",
    "    \"\"\"\n",
    "    results_pnl = np.zeros((len(fast_ma),len(slow_ma)))\n",
    "    results_sharpe = np.zeros((len(fast_ma),len(slow_ma)))\n",
    "    \n",
    "    _, pnl_SP, sharpe_SP = backtest_ma_strat(in_sample, fast_ma=0, slow_ma=0)\n",
    "    \n",
    "    for i, fast in enumerate(fast_ma):\n",
    "        for j, slow in enumerate(slow_ma):\n",
    "            if fast < slow:\n",
    "                _, pnl, sharpe = backtest_ma_strat(in_sample, fast, slow)\n",
    "                results_pnl[i,j] = pnl\n",
    "                results_sharpe[i,j] = sharpe\n",
    "            else:\n",
    "                results_pnl[i,j] = pnl_SP\n",
    "                results_sharpe[i,j] = sharpe_SP\n",
    "                \n",
    "    results_pnl = np.round(results_pnl, 3)    \n",
    "    results_sharpe = np.round(results_sharpe, 3) \n",
    "    \n",
    "    return results_pnl, results_sharpe"
   ]
  },
  {
   "cell_type": "code",
   "execution_count": 18,
   "metadata": {
    "ExecuteTime": {
     "end_time": "2020-04-20T18:03:51.757679Z",
     "start_time": "2020-04-20T18:03:51.745818Z"
    },
    "code_folding": []
   },
   "outputs": [],
   "source": [
    "def get_best_combination(results_sharpe):\n",
    "    n = len(results_sharpe)\n",
    "    \n",
    "    sharpe_neighbors = convolve2d(results_sharpe, np.ones((3,3)),'same') - results_sharpe\n",
    "    n_neighbors = np.full((n,n), 8)\n",
    "    n_neighbors[[0,n-1], :] = n_neighbors[:, [0,n-1]] = 5\n",
    "    n_neighbors[[0,n-1], [0,n-1]] = n_neighbors[[n-1,0], [0,n-1]] = 3\n",
    "    results_sharpe_neighbors = np.divide(sharpe_neighbors, n_neighbors)\n",
    "    \n",
    "    # (Individual SR + neighbors SR) / 2\n",
    "    results_sharpe_combined = np.round(np.divide(np.add(results_sharpe, results_sharpe_neighbors), 2), 3)\n",
    "    \n",
    "    # Get index from best SR\n",
    "#    fast_index_ind, slow_index_ind = np.unravel_index(np.argmax(results_sharpe, axis=None), results_sharpe.shape)\n",
    "    fast_index, slow_index = np.unravel_index(np.argmax(results_sharpe_combined, axis=None), results_sharpe_combined.shape)\n",
    "\n",
    "#     print(\"Individual: {}-{}\".format(fast_ma[fast_index_ind], slow_ma[slow_index_ind]))\n",
    "#     print(\"With NN: {}-{}\".format(fast_ma[fast_index], slow_ma[slow_index]))\n",
    "    \n",
    "    return fast_index, slow_index, results_sharpe_combined"
   ]
  },
  {
   "cell_type": "code",
   "execution_count": 24,
   "metadata": {
    "ExecuteTime": {
     "end_time": "2020-04-20T20:56:09.211067Z",
     "start_time": "2020-04-20T20:56:09.196478Z"
    },
    "code_folding": []
   },
   "outputs": [],
   "source": [
    "def show_plot(df, start='1975', end='2020', norm=True, benchmark=True, position=True, MAs=False):\n",
    "    df_plot = df.copy()\n",
    "    #start = df_plot.index.values[0]\n",
    "    #end = df_plot.index.values[-1]\n",
    "    \n",
    "    cols = ['Strat_cum_ret']\n",
    "    title = 'MA crossover strategy'\n",
    "    \n",
    "    if (benchmark == True):\n",
    "        title = 'SP500 vs ' + title  \n",
    "        if norm == False:\n",
    "            cols.append('Close')\n",
    "        else:\n",
    "            cols.append('Market_cum_ret')\n",
    "    if norm == False:\n",
    "        df_plot['Strat_cum_ret'] = df_plot['Strat_cum_ret'] * df_plot.loc[df_plot.index.values[0], 'Close'] / df_plot.loc[df_plot.index.values[0], 'Strat_cum_ret']\n",
    "            \n",
    "    if MAs == True:\n",
    "        cols.append('fast_ma')\n",
    "        cols.append('slow_ma')\n",
    "        \n",
    "    df_plot.loc[start:end, cols].plot(title=title, grid=True)\n",
    "    \n",
    "    if position == True:\n",
    "        df_plot.loc[start:end, 'Strat_position'].plot(secondary_y=True, legend='Strategy Position')"
   ]
  },
  {
   "cell_type": "code",
   "execution_count": 41,
   "metadata": {
    "ExecuteTime": {
     "end_time": "2020-04-21T04:15:19.755557Z",
     "start_time": "2020-04-21T04:15:19.743289Z"
    }
   },
   "outputs": [],
   "source": [
    "def show_oos_plot(results_df):\n",
    "    # Calculate returns from benchmark\n",
    "    results_df['Market_cum_ret'] = (results_df['Market_daily_ret'] + 1).cumprod() * ini_equity\n",
    "    \n",
    "    results_df.loc[results_df.index.values[0], 'OOS_daily_ret'] = results_df.loc[results_df.index.values[0], 'Market_daily_ret'] # Ret of first day = ret of market\n",
    "    results_df['OOS_cum_ret'] = (results_df['OOS_daily_ret'] + 1).cumprod() * ini_equity\n",
    "\n",
    "    results_df[['Market_cum_ret', 'OOS_cum_ret']].plot(title='OOS: SP500 vs Optimized MA crossover strategy', grid=True)\n",
    "    results_df['Strat_position'].plot(secondary_y=True, legend='Strategy Position')"
   ]
  },
  {
   "cell_type": "code",
   "execution_count": 12,
   "metadata": {
    "ExecuteTime": {
     "end_time": "2020-04-20T17:59:32.183856Z",
     "start_time": "2020-04-20T17:59:32.173395Z"
    },
    "code_folding": []
   },
   "outputs": [],
   "source": [
    "# Plots a heatmap with data from a matrix. \n",
    "def show_heatmap(data, plot_title, x_title, x_values, y_title, y_values):\n",
    "    # Flip matrix vertically for better visualization\n",
    "    data = np.flip(data, axis=0)\n",
    "    fig, ax = plt.subplots(figsize=(11, 9))\n",
    "\n",
    "    rdgn = sns.diverging_palette(h_neg=10, h_pos=130, as_cmap=True, s=80, l=50)\n",
    "#    divnorm = DivergingNorm(vmin=data.min(), vcenter=0, vmax=data.max())\n",
    "#    sns.heatmap(data, cmap=rdgn, norm=divnorm, annot=True, fmt ='.2', \n",
    "    fig = sns.heatmap(data, cmap=rdgn, annot=True, fmt =\".2f\", \n",
    "                vmin=-1.0, center=0, vmax=1.0,\n",
    "                linecolor='black', cbar=True, ax=ax,\n",
    "                xticklabels=x_values, yticklabels=np.flip(y_values))\n",
    "    \n",
    "    ax.set(title=plot_title, xlabel=x_title, ylabel=y_title)\n",
    "    \n",
    "    plt.yticks(rotation=0)\n",
    "\n",
    "    plt.show()"
   ]
  }
 ],
 "metadata": {
  "kernelspec": {
   "display_name": "py37",
   "language": "python",
   "name": "py37"
  },
  "language_info": {
   "codemirror_mode": {
    "name": "ipython",
    "version": 3
   },
   "file_extension": ".py",
   "mimetype": "text/x-python",
   "name": "python",
   "nbconvert_exporter": "python",
   "pygments_lexer": "ipython3",
   "version": "3.7.4"
  },
  "toc": {
   "base_numbering": 1,
   "nav_menu": {},
   "number_sections": true,
   "sideBar": true,
   "skip_h1_title": false,
   "title_cell": "Table of Contents",
   "title_sidebar": "Contents",
   "toc_cell": false,
   "toc_position": {},
   "toc_section_display": true,
   "toc_window_display": false
  },
  "varInspector": {
   "cols": {
    "lenName": "8",
    "lenType": 16,
    "lenVar": 40
   },
   "kernels_config": {
    "python": {
     "delete_cmd_postfix": "",
     "delete_cmd_prefix": "del ",
     "library": "var_list.py",
     "varRefreshCmd": "print(var_dic_list())"
    },
    "r": {
     "delete_cmd_postfix": ") ",
     "delete_cmd_prefix": "rm(",
     "library": "var_list.r",
     "varRefreshCmd": "cat(var_dic_list()) "
    }
   },
   "types_to_exclude": [
    "module",
    "function",
    "builtin_function_or_method",
    "instance",
    "_Feature"
   ],
   "window_display": false
  }
 },
 "nbformat": 4,
 "nbformat_minor": 4
}
