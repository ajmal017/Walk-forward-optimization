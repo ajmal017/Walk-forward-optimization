{
 "cells": [
  {
   "cell_type": "code",
   "execution_count": 1,
   "metadata": {
    "ExecuteTime": {
     "end_time": "2020-05-04T19:24:53.204730Z",
     "start_time": "2020-05-04T19:24:51.053614Z"
    },
    "code_folding": []
   },
   "outputs": [],
   "source": [
    "# Necessary imports\n",
    "import yfinance as yf\n",
    "import numpy as np\n",
    "import pandas as pd\n",
    "import matplotlib.pyplot as plt\n",
    "import seaborn as sns\n",
    "import quantstats as qs\n",
    "import statistics as st\n",
    "from datetime import datetime, timedelta\n",
    "from matplotlib.colors import DivergingNorm\n",
    "from scipy.signal import convolve2d\n",
    "from IPython.core.display import HTML\n",
    "HTML(\"\"\"<style>.output_png img {display: block;margin-left: auto;margin-right: auto;} </style>\"\"\")"
   ]
  },
  {
   "cell_type": "code",
   "execution_count": 2,
   "metadata": {
    "ExecuteTime": {
     "end_time": "2020-05-04T19:24:53.235839Z",
     "start_time": "2020-05-04T19:24:53.207707Z"
    },
    "code_folding": []
   },
   "outputs": [],
   "source": [
    "# Settings for notebook visualization\n",
    "qs.extend_pandas()\n",
    "plt.rcParams['figure.figsize'] = (20,6) #(26,12)\n",
    "# plt.rcParams['text.color'] = 'w'\n",
    "# plt.rcParams['legend.facecolor'] = '#2f3540'\n",
    "# plt.rcParams['xtick.color'] = 'w'\n",
    "# plt.rcParams['ytick.color'] = 'w'\n",
    "# plt.rcParams['axes.labelcolor'] = 'w'\n",
    "\n",
    "color = 'k'\n",
    "plt.rcParams['text.color'] = color\n",
    "plt.rcParams['legend.facecolor'] = 'w'\n",
    "plt.rcParams['xtick.color'] = color\n",
    "plt.rcParams['ytick.color'] = color\n",
    "plt.rcParams['axes.labelcolor'] = color\n",
    "\n",
    "\n",
    "SMALL_SIZE = 13\n",
    "MEDIUM_SIZE = 15\n",
    "BIG_SIZE = 17\n",
    "plt.rcParams['font.size'] = SMALL_SIZE\n",
    "plt.rcParams['axes.titlesize'] = BIG_SIZE\n",
    "plt.rcParams['axes.labelsize'] = MEDIUM_SIZE\n",
    "plt.rcParams['xtick.labelsize'] = MEDIUM_SIZE\n",
    "plt.rcParams['ytick.labelsize'] = MEDIUM_SIZE\n",
    "plt.rcParams['legend.fontsize'] = SMALL_SIZE\n",
    "plt.rcParams['figure.titlesize'] = BIG_SIZE\n",
    "\n",
    "np.set_printoptions(edgeitems=10, linewidth=1000) "
   ]
  },
  {
   "cell_type": "code",
   "execution_count": 3,
   "metadata": {
    "ExecuteTime": {
     "end_time": "2020-05-04T19:24:53.252633Z",
     "start_time": "2020-05-04T19:24:53.244383Z"
    },
    "code_folding": [
     1
    ]
   },
   "outputs": [],
   "source": [
    "# Load DF with SP500 data\n",
    "def get_sp500_data(start_date=\"1970-01-02\", from_local_file=True, save_to_file=False):\n",
    "    if from_local_file == True:\n",
    "        data = pd.read_pickle('data/SP500_hist_data.pkl')\n",
    "        return data\n",
    "    else:\n",
    "        # Download data from yfinance\n",
    "        data = yf.download(\"^GSPC\", auto_adjust=True, start=start_date)\n",
    "        if save_to_file == True:\n",
    "            data.to_pickle(\"data/SP500_hist_data.pkl\")\n",
    "        return data"
   ]
  },
  {
   "cell_type": "code",
   "execution_count": 22,
   "metadata": {
    "ExecuteTime": {
     "end_time": "2020-05-05T08:57:41.416455Z",
     "start_time": "2020-05-05T08:57:41.382556Z"
    }
   },
   "outputs": [],
   "source": [
    "full_df = get_sp500_data(start_date='1995')\n",
    "ini_equity = 100\n",
    "commision = 0.000111538462 # 2/130000 + 12.5/130000\n",
    "# 0.01 = 1% of the daily return"
   ]
  },
  {
   "cell_type": "code",
   "execution_count": 5,
   "metadata": {
    "ExecuteTime": {
     "end_time": "2020-05-04T19:24:53.290321Z",
     "start_time": "2020-05-04T19:24:53.277695Z"
    },
    "code_folding": []
   },
   "outputs": [],
   "source": [
    "# Define if the strategy position (1=fast_ma higher than slow_ma, -1=short)\n",
    "def get_strategy_position(df, fast_ma=1, slow_ma=1):\n",
    "    df['fast_ma'] = full_df['Close'].rolling(window=fast_ma).mean()\n",
    "    df['slow_ma'] = full_df['Close'].rolling(window=slow_ma).mean()\n",
    "    df['fast-slow'] = df['fast_ma'].sub(df['slow_ma'])\n",
    "    return np.where(df['fast-slow'] < 0, -1, 1)"
   ]
  },
  {
   "cell_type": "code",
   "execution_count": 6,
   "metadata": {
    "ExecuteTime": {
     "end_time": "2020-05-04T19:24:53.304970Z",
     "start_time": "2020-05-04T19:24:53.294086Z"
    },
    "code_folding": [
     0
    ]
   },
   "outputs": [],
   "source": [
    "def print_periods(IS_start_years, IS_end_years, OOS_start_years, OOS_end_years):\n",
    "    print(\"\\tIn SAMPLE\\t\\tOOS\")\n",
    "    for iss, ie, oi, oe in zip(IS_start_years, IS_end_years, OOS_start_years, OOS_end_years):\n",
    "        print(\"{:%Y-%m-%d} {:%Y-%m-%d} \\t {:%Y-%m-%d} {:%Y-%m-%d}\".format(iss, ie, oi, oe))"
   ]
  },
  {
   "cell_type": "code",
   "execution_count": 7,
   "metadata": {
    "ExecuteTime": {
     "end_time": "2020-05-04T19:24:53.333423Z",
     "start_time": "2020-05-04T19:24:53.312081Z"
    },
    "code_folding": [
     4
    ]
   },
   "outputs": [],
   "source": [
    "def print_backtest_stats(df, fast_ma, slow_ma, ret_strat=np.nan, sr_strat=np.nan):\n",
    "    first_row = df.index.values[0]\n",
    "    last_row = df.index.values[-1]\n",
    "\n",
    "    if 'Market_cum_ret' not in df.columns:\n",
    "        df['Market_cum_ret'] = df['Market_daily_ret'].add(1).cumprod().mul(ini_equity)\n",
    "        df.loc[first_row, 'Market_cum_ret'] = ini_equity + df.loc[first_row, 'Market_daily_ret'] * 100\n",
    "    \n",
    "    ini_money = df.loc[first_row, 'Market_cum_ret'] / (1 + df.loc[first_row, 'Market_daily_ret'])\n",
    "    if np.isnan(ini_money):\n",
    "        ini_money = ini_equity\n",
    "#     print(\"ini_money = {}\".format(ini_money))\n",
    "    \n",
    "    ret_market = (df.loc[last_row, 'Market_cum_ret'] / ini_money) * 100\n",
    "    sr_market = df['Market_daily_ret'].sharpe()\n",
    "\n",
    "    print(\"\\tPeriod: {:%Y-%m-%d} to {:%Y-%m-%d}\".format(df.index[0], df.index[-1]))\n",
    "    print(\"\\tOverall return of SP500: {:.2f} %. SR of SP500: {:.2f}\".format(ret_market, sr_market))\n",
    "    if (fast_ma >= slow_ma):\n",
    "        print(\"\\tOverall return of long only: {:.2f} %. Sharpe ratio strategy: {:.2f}\".format(ret_market, sr_market))\n",
    "    else:\n",
    "        print(\"\\tOverall return of {}-{} MA crossover: {:.2f} %. Sharpe ratio strategy: {:.2f}\".format(fast_ma, slow_ma, ret_strat, sr_strat))\n",
    "\n",
    "    return"
   ]
  },
  {
   "cell_type": "code",
   "execution_count": 8,
   "metadata": {
    "ExecuteTime": {
     "end_time": "2020-05-04T19:24:53.366256Z",
     "start_time": "2020-05-04T19:24:53.340150Z"
    },
    "code_folding": []
   },
   "outputs": [],
   "source": [
    "def backtest_ma_strat(df, fast_ma=1, slow_ma=1, last_position=0, ini_equity=ini_equity, commision=commision):\n",
    "    \"\"\"\n",
    "    backtest_ma_strat does the backtest of an MA crossover strategy. It adds the following columns to the received dataframe:\n",
    "        - Strat_position: Position of the strategy on the index. 1:long, -1:short\n",
    "        - Market_daily_ret: daily returns of the benchmark\n",
    "        - Strat_daily_ret: daily returns of the strategy\n",
    "        - Market_cum_ret: daily cummulative returns of the benchmark\n",
    "        - Strat_cum_ret: daily cummulative returns of the strategy\n",
    "\n",
    "    Args:\n",
    "        df (DataFrame): df with 'Close' returns of the benchmark\n",
    "        fast_ma (int): fast moving average\n",
    "        slow_ma (int): slow moving average\n",
    "        ini_equity (int): initial equity to be invested in the benchmark and strategy. 100 by default\n",
    "\n",
    "    Returns\n",
    "        df['Strat_daily_ret'] (pd.Series): Daily returns of the strategy\n",
    "        ret_strat (float): final value of the investment on the strategy with respect to the initial equity invested \n",
    "        sr_strat (float): Sharpe Ratio of the strategy\n",
    "    \"\"\"\n",
    "    \n",
    "    if (fast_ma >= slow_ma): # Long only\n",
    "        df['Strat_position'] = 1\n",
    "        df['Long_only'] = 1\n",
    "    else:\n",
    "        df['Strat_position'] = get_strategy_position(df.copy(), fast_ma, slow_ma)\n",
    "        df['Long_only'] = 0\n",
    "\n",
    "    # Default daily transaction cost set to 0. If the postition has change from previous day, we add a commision\n",
    "    df['Costs'] = 0\n",
    "    if commision > 0: \n",
    "        df['Costs'] = df['Costs'].where(df['Strat_position'] == df['Strat_position'].shift(1).fillna(last_position), other=commision)\n",
    "        \n",
    "    # Strat_daily_ret = (Market_daily_ret * shift(Strat_position) - Costs\n",
    "    df['Strat_daily_ret'] = df['Market_daily_ret'].mul(df['Strat_position'].shift(1).fillna(last_position)).sub(df['Costs'])\n",
    "        \n",
    "    first_day = df.index.values[0]\n",
    "    df['Market_cum_ret'] = df['Market_daily_ret'].add(1).cumprod().mul(ini_equity)\n",
    "    df['Strat_cum_ret'] = df['Strat_daily_ret'].add(1).cumprod().mul(ini_equity)\n",
    "    df.loc[first_day, 'Market_cum_ret'] = ini_equity + df.loc[first_day, 'Market_daily_ret'] * ini_equity\n",
    "    df.loc[first_day, 'Strat_cum_ret'] = ini_equity + df.loc[first_day,'Strat_daily_ret'] * ini_equity\n",
    "        \n",
    "    ret_strat = df['Strat_cum_ret'][-1] \n",
    "    sr_strat = df['Strat_daily_ret'].sharpe()\n",
    "    \n",
    "    cols = ['Close', 'Market_daily_ret', 'Strat_daily_ret', 'Costs', 'Strat_position', 'Long_only', 'Market_cum_ret', 'Strat_cum_ret']\n",
    "    if set(df.columns.values) != set(cols):\n",
    "        #print(df.columns.values)\n",
    "        #print(cols)\n",
    "        print(\"CHECK end of backtest_ma_strat\")\n",
    "    \n",
    "    df = df[cols]\n",
    "    \n",
    "    return df['Strat_daily_ret'], ret_strat, sr_strat"
   ]
  },
  {
   "cell_type": "code",
   "execution_count": 9,
   "metadata": {
    "ExecuteTime": {
     "end_time": "2020-05-04T19:24:53.381631Z",
     "start_time": "2020-05-04T19:24:53.371053Z"
    },
    "code_folding": []
   },
   "outputs": [],
   "source": [
    "# REVISE \n",
    "def ma_backtest_print_plot(df, last_position=0, fast_ma=1, slow_ma=1, ini_equity=ini_equity, commision=commision):\n",
    "    _, ret_strat, sr_strat = backtest_ma_strat(df, last_position=last_position, fast_ma=fast_ma, slow_ma=slow_ma, commision=commision)\n",
    "    print_backtest_stats(df, fast_ma=fast_ma, slow_ma=slow_ma, ret_strat=ret_strat, sr_strat=sr_strat)\n",
    "    show_plot(df, start=df.index.min(), end=df.index.max())"
   ]
  },
  {
   "cell_type": "code",
   "execution_count": 20,
   "metadata": {
    "ExecuteTime": {
     "end_time": "2020-05-04T19:56:38.168666Z",
     "start_time": "2020-05-04T19:56:38.159062Z"
    },
    "code_folding": []
   },
   "outputs": [],
   "source": [
    "def run_all_combinations(df, fast_ma, slow_ma):\n",
    "    \"\"\"\n",
    "    Runs a backtest with all possible combinations and returns 2 matrices, one with pnl results, and one with SR\n",
    "    # allow_long_only set to True allows the algorithm to take only a Long position on the market\n",
    "    \"\"\"\n",
    "    results_pnl = np.zeros((len(fast_ma),len(slow_ma)))\n",
    "    results_sharpe = np.zeros((len(fast_ma),len(slow_ma)))\n",
    "\n",
    "    _, pnl_SP, sharpe_SP = backtest_ma_strat(df, fast_ma=0, slow_ma=0)\n",
    "\n",
    "    for i, fast in enumerate(fast_ma):\n",
    "        for j, slow in enumerate(slow_ma):\n",
    "            if fast < slow:\n",
    "                _, pnl, sharpe = backtest_ma_strat(df, fast, slow, last_position=0)\n",
    "                results_pnl[i,j] = pnl\n",
    "                results_sharpe[i,j] = sharpe\n",
    "            #else:\n",
    "                #if allow_long_only == True:\n",
    "                 #   results_pnl[i,j] = pnl_SP\n",
    "                  #  results_sharpe[i,j] = sharpe_SP\n",
    "#                 else:\n",
    "#                     results_pnl[i,j] = 0\n",
    "#                     results_sharpe[i,j] = 0\n",
    "\n",
    "\n",
    "    return results_pnl, results_sharpe, sharpe_SP"
   ]
  },
  {
   "cell_type": "code",
   "execution_count": 11,
   "metadata": {
    "ExecuteTime": {
     "end_time": "2020-05-04T19:24:53.428067Z",
     "start_time": "2020-05-04T19:24:53.405972Z"
    },
    "code_folding": []
   },
   "outputs": [],
   "source": [
    "def get_best_combination(market_sharpe, results_sharpe, num_neighbors_matrix, allow_long_only=True):\n",
    "    n = len(results_sharpe)\n",
    "\n",
    "    sum_sharpe_neighbors = convolve2d(results_sharpe, np.ones((3,3)),'same') - results_sharpe\n",
    "        \n",
    "    results_sharpe_neighbors = np.divide(sum_sharpe_neighbors, num_neighbors_matrix)\n",
    "    \n",
    "    # (Individual SR + neighbors SR) / 2\n",
    "    results_sharpe_combined = np.divide(np.add(results_sharpe, results_sharpe_neighbors), 2)\n",
    "    \n",
    "    results_sharpe_combined = np.nan_to_num(results_sharpe_combined, nan=market_sharpe)\n",
    "    \n",
    "    # Get index from best SR\n",
    "    fast_index, slow_index = np.unravel_index(np.argmax(results_sharpe_combined, axis=None), results_sharpe_combined.shape)\n",
    "\n",
    "    #print(\"Individual: {}-{}\".format(fast_ma[fast_index_ind], slow_ma[slow_index_ind]))\n",
    "    #print(\"With NN: {}-{}\".format(fast_ma[fast_index], slow_ma[slow_index]))\n",
    "    #print(\"Best: {}-{}\".format(fast_ma[fast_index], slow_ma[slow_index]))\n",
    "\n",
    "    return fast_index, slow_index, results_sharpe_combined"
   ]
  },
  {
   "cell_type": "code",
   "execution_count": 12,
   "metadata": {
    "ExecuteTime": {
     "end_time": "2020-05-04T19:24:53.452825Z",
     "start_time": "2020-05-04T19:24:53.432899Z"
    },
    "code_folding": [
     0
    ]
   },
   "outputs": [],
   "source": [
    "def check_nan_around(matrix):\n",
    "    n_rows = matrix.shape[0]\n",
    "    n_cols = matrix.shape[1]\n",
    "\n",
    "    num_nan_around = np.full((n_rows, n_cols), 0)\n",
    "\n",
    "    for i in range(n_rows):\n",
    "        for j in range(n_cols):\n",
    "            counter = 0\n",
    "            for ii in range(i-1, i+2):\n",
    "                if (ii >= 0) and (ii < n_rows):\n",
    "                    for jj in range(j-1, j+2):\n",
    "                        if (jj >= 0) and (jj < n_cols):\n",
    "                            if np.isnan(matrix[ii, jj]) == True:\n",
    "                                counter += 1\n",
    "            num_nan_around[i,j] = counter\n",
    "\n",
    "    return num_nan_around"
   ]
  },
  {
   "cell_type": "code",
   "execution_count": 13,
   "metadata": {
    "ExecuteTime": {
     "end_time": "2020-05-04T19:24:53.473046Z",
     "start_time": "2020-05-04T19:24:53.456800Z"
    },
    "code_folding": [
     0
    ]
   },
   "outputs": [],
   "source": [
    "def get_num_neighbors(fast_ma_list, slow_ma_list):\n",
    "    n_rows = len(fast_ma_list)\n",
    "    n_cols = len(fast_ma_list)\n",
    "    \n",
    "    n_neighbors = np.full((n_rows, n_cols), 8.0) # Default number of neighbors of each cell\n",
    "    n_neighbors[[0,n_cols-1], :] = n_neighbors[:, [0,n_cols-1]] = 5 # Edges\n",
    "    n_neighbors[[0,n_cols-1], [0,n_cols-1]] = n_neighbors[[n_rows-1,0], [0,n_cols-1]] = 3 # Corners\n",
    "\n",
    "    for i in range(n_rows):\n",
    "        for j in range(n_cols):\n",
    "            if fast_ma_list[i] >= slow_ma_list[j]:\n",
    "                n_neighbors[i,j] = np.nan\n",
    "\n",
    "    num_notnan_neighbors = n_neighbors - check_nan_around(n_neighbors)\n",
    "    \n",
    "    return num_notnan_neighbors"
   ]
  },
  {
   "cell_type": "code",
   "execution_count": 25,
   "metadata": {
    "ExecuteTime": {
     "end_time": "2020-05-05T10:05:02.236267Z",
     "start_time": "2020-05-05T10:05:02.223552Z"
    },
    "code_folding": []
   },
   "outputs": [],
   "source": [
    "def prepare_oos_df(df, start_date=0, end_date=0):\n",
    "    if ((start_date == 0) | (end_date == 0)):\n",
    "        start_date = df.index[0]\n",
    "        end_date = df.index[-1]\n",
    "        \n",
    "    if ('Strat_daily_ret' in df.columns) == False:\n",
    "        df['Strat_daily_ret'] = df['Strat_daily_ret']\n",
    "    \n",
    "    # Fill empty spots of Strat_daily_ret with the return of that day. This spots are the first day of each OOS window\n",
    "    df.loc[:, 'Strat_daily_ret'].fillna(\n",
    "        df['Market_daily_ret'].mul(df['Strat_position'].shift(1, fill_value=1)),\n",
    "        inplace=True)\n",
    "    \n",
    "    cols = ['Close', 'Market_daily_ret', 'Strat_daily_ret', 'Strat_position', 'Long_only', 'Costs']\n",
    "    \n",
    "    results_df = df.loc[start_date:end_date, cols].copy()\n",
    "\n",
    "    results_df['Market_cum_ret'] = (results_df['Market_daily_ret'] + 1).cumprod().fillna(1) * ini_equity\n",
    "\n",
    "#     first_business_day = df[start_date].index.min()  + pd.tseries.offsets.BusinessDay(n=1)\n",
    "    first_business_day = df.loc[start_date].index[0]\n",
    "#    first_business_day = df[str(start_date.year)].index[0]\n",
    "\n",
    "#     results_df.loc[first_business_day, 'Strat_daily_ret'] = results_df.loc[first_business_day, 'Market_daily_ret'] - commision # Ret of first day = ret of market\n",
    "    results_df['Strat_cum_ret'] = (results_df['Strat_daily_ret'] + 1).cumprod() * ini_equity\n",
    "#     results_df.loc[first_business_day, 'Strat_cum_ret'] = ini_equity - commision\n",
    "    \n",
    "    return results_df"
   ]
  },
  {
   "cell_type": "code",
   "execution_count": 15,
   "metadata": {
    "ExecuteTime": {
     "end_time": "2020-05-04T19:24:53.516624Z",
     "start_time": "2020-05-04T19:24:53.498503Z"
    },
    "code_folding": []
   },
   "outputs": [],
   "source": [
    "def show_oos_plot(results_df):\n",
    "    if results_df.index.min().year == results_df.index.max().year:\n",
    "        #fmt = \"%Y-%m-%d\"\n",
    "        fmt = 'D'\n",
    "    else:\n",
    "        #fmt = \"%Y\"\n",
    "        fmt = 'Y'\n",
    "    \n",
    "    title = \"SP500 vs Optimized MA crossover strategy ({} - {})\".format(\n",
    "        np.datetime64(results_df.index[0], fmt), np.datetime64(results_df.index[-1], fmt))\n",
    "        #results_df.index.min().strftime(fmt), results_df.index.max().strftime(fmt))\n",
    "    \n",
    "    cols = ['Market_cum_ret', 'Strat_cum_ret', 'Long_only', 'Strat_position']\n",
    "    colors = ('b', 'tab:orange', 'tab:brown', 'g')\n",
    "\n",
    "    results_df[cols].plot(title=title, grid=True, color=colors, secondary_y=['Long_only', 'Strat_position'])\n",
    "    \n",
    "    #results_df[['Market_cum_ret', 'Strat_cum_ret']].plot(title=title, grid=True)\n",
    "    #results_df.loc[results_df.index.min():results_df.index.max(), ['Strat_position', 'Long_only']].plot(secondary_y=True, legend='Strategy Position')"
   ]
  },
  {
   "cell_type": "code",
   "execution_count": 16,
   "metadata": {
    "ExecuteTime": {
     "end_time": "2020-05-04T19:24:53.556578Z",
     "start_time": "2020-05-04T19:24:53.521150Z"
    },
    "code_folding": []
   },
   "outputs": [],
   "source": [
    "def show_plot(df, start='1973-01-01', end='2020-12-31', norm=True, benchmark=True, position=True, fast_ma=1, slow_ma=1):\n",
    "    df_plot = df[start:end].copy()\n",
    "\n",
    "    first_day = df_plot.index[0]\n",
    "    last_day = df_plot.index[-1]\n",
    "    \n",
    "    if first_day.year == last_day.year:\n",
    "        #fmt = \"%Y-%m-%d\"\n",
    "        fmt = 'D'\n",
    "    else:\n",
    "        #fmt = \"%Y\"\n",
    "        fmt = 'Y'\n",
    "    \n",
    "    cols = ['Strat_cum_ret']\n",
    "    colors = ['tab:orange']\n",
    "    title = 'MA crossover strategy ({} - {})'.format(np.datetime64(first_day, fmt), np.datetime64(last_day, fmt))\n",
    "    \n",
    "#    title = 'MA crossover strategy ({} - {})'.format(start.strftime(fmt), end.strftime(fmt))\n",
    "\n",
    "    if (benchmark == True):\n",
    "        title = 'SP500 vs ' + title\n",
    "        colors.append('b')\n",
    "        if norm == False:\n",
    "            cols.append('Close')\n",
    "        else:\n",
    "            cols.append('Market_cum_ret')\n",
    "            \n",
    "    if norm == False:\n",
    "        ini_money = df_plot.loc[first_day, 'Close'] / (1 + df_plot.loc[first_day, 'Strat_daily_ret'])\n",
    "        df_plot['Strat_cum_ret'] = df_plot['Strat_daily_ret'].add(1).cumprod().mul(ini_money)\n",
    "        df_plot.loc[first_day, 'Strat_cum_ret'] = ini_money + df_plot.loc[first_day,'Strat_daily_ret'] * ini_money\n",
    "    \n",
    "    if (slow_ma > 1) & (fast_ma >= 1):\n",
    "        cols.append('fast_ma')\n",
    "        cols.append('slow_ma')\n",
    "        colors.append('r')\n",
    "        colors.append('y')\n",
    "        df_plot['fast_ma'] = full_df['Close'].rolling(window=fast_ma).mean()\n",
    "        df_plot['slow_ma'] = full_df['Close'].rolling(window=slow_ma).mean()\n",
    "    \n",
    "    # PLOT\n",
    "    if position == True:\n",
    "        cols.append('Long_only')\n",
    "        cols.append('Strat_position')\n",
    "        colors.append('tab:brown')\n",
    "        colors.append('g')\n",
    "        df_plot.loc[start:end, cols].plot(title=title, grid=True, secondary_y=['Strat_position', 'Long_only'], color=colors)\n",
    "\n",
    "    else:\n",
    "        df_plot.loc[start:end, cols].plot(title=title, grid=True, color=tuple(colors))\n"
   ]
  },
  {
   "cell_type": "code",
   "execution_count": 21,
   "metadata": {
    "ExecuteTime": {
     "end_time": "2020-05-04T20:18:05.573660Z",
     "start_time": "2020-05-04T20:18:05.562551Z"
    },
    "code_folding": [
     1
    ]
   },
   "outputs": [],
   "source": [
    "# Plots a heatmap with data from a matrix. \n",
    "def show_heatmap(data, market_sharpe, plot_title, x_title, x_values, y_title, y_values):\n",
    "    # Flip matrix vertically for better visualization\n",
    "    data = np.flip(data, axis=0)\n",
    "    #data = np.nan_to_num(data, nan=market_sharpe)\n",
    "    fig, ax = plt.subplots(figsize=(10, 8)) #11,9\n",
    "\n",
    "    rdgn = sns.diverging_palette(h_neg=10, h_pos=130, as_cmap=True, s=80, l=50)\n",
    "#    divnorm = DivergingNorm(vmin=data.min(), vcenter=0, vmax=data.max())\n",
    "#    sns.heatmap(data, cmap=rdgn, norm=divnorm, annot=True, fmt ='.2', \n",
    "    fig = sns.heatmap(data, cmap=rdgn, annot=True, fmt =\".2f\", \n",
    "                vmin=-1.0, center=0, vmax=1.0,\n",
    "                linecolor='black', cbar=True, ax=ax,\n",
    "                xticklabels=x_values, yticklabels=np.flip(y_values))\n",
    "    \n",
    "    ax.set(title=plot_title, xlabel=x_title, ylabel=y_title)\n",
    "    \n",
    "    plt.yticks(rotation=0)\n",
    "\n",
    "    #plt.show()"
   ]
  },
  {
   "cell_type": "code",
   "execution_count": 18,
   "metadata": {
    "ExecuteTime": {
     "end_time": "2020-05-04T19:24:53.592073Z",
     "start_time": "2020-05-04T19:24:53.580882Z"
    },
    "code_folding": [
     0
    ]
   },
   "outputs": [],
   "source": [
    "def add_data(data, new_data, name):\n",
    "    columns = pd.MultiIndex.from_product([[name], metrics])\n",
    "    new_df = pd.DataFrame(new_data, index=index, columns=columns)\n",
    "    concatenate = pd.concat([data, new_df], axis=1)\n",
    "\n",
    "    return concatenate"
   ]
  },
  {
   "cell_type": "code",
   "execution_count": 19,
   "metadata": {
    "ExecuteTime": {
     "end_time": "2020-05-04T19:24:53.614307Z",
     "start_time": "2020-05-04T19:24:53.595657Z"
    },
    "code_folding": []
   },
   "outputs": [],
   "source": [
    "def save_report(returns, benchmark=\"SPY\"):\n",
    "    color = 'k'\n",
    "    plt.rcParams['text.color'] = color\n",
    "    plt.rcParams['legend.facecolor'] = 'w'\n",
    "    plt.rcParams['xtick.color'] = color\n",
    "    plt.rcParams['ytick.color'] = color\n",
    "    plt.rcParams['axes.labelcolor'] = color\n",
    "    \n",
    "    qs.reports.html(returns, benchmark)\n",
    "    \n",
    "    plt.rcParams['text.color'] = 'w'\n",
    "    plt.rcParams['legend.facecolor'] = '#2f3540'\n",
    "    plt.rcParams['xtick.color'] = 'w'\n",
    "    plt.rcParams['ytick.color'] = 'w'\n",
    "    plt.rcParams['axes.labelcolor'] = 'w'"
   ]
  },
  {
   "cell_type": "code",
   "execution_count": null,
   "metadata": {},
   "outputs": [],
   "source": []
  }
 ],
 "metadata": {
  "kernelspec": {
   "display_name": "py37",
   "language": "python",
   "name": "py37"
  },
  "language_info": {
   "codemirror_mode": {
    "name": "ipython",
    "version": 3
   },
   "file_extension": ".py",
   "mimetype": "text/x-python",
   "name": "python",
   "nbconvert_exporter": "python",
   "pygments_lexer": "ipython3",
   "version": "3.7.4"
  },
  "toc": {
   "base_numbering": 1,
   "nav_menu": {},
   "number_sections": true,
   "sideBar": true,
   "skip_h1_title": false,
   "title_cell": "Table of Contents",
   "title_sidebar": "Contents",
   "toc_cell": false,
   "toc_position": {},
   "toc_section_display": true,
   "toc_window_display": false
  },
  "varInspector": {
   "cols": {
    "lenName": "8",
    "lenType": 16,
    "lenVar": 40
   },
   "kernels_config": {
    "python": {
     "delete_cmd_postfix": "",
     "delete_cmd_prefix": "del ",
     "library": "var_list.py",
     "varRefreshCmd": "print(var_dic_list())"
    },
    "r": {
     "delete_cmd_postfix": ") ",
     "delete_cmd_prefix": "rm(",
     "library": "var_list.r",
     "varRefreshCmd": "cat(var_dic_list()) "
    }
   },
   "types_to_exclude": [
    "module",
    "function",
    "builtin_function_or_method",
    "instance",
    "_Feature"
   ],
   "window_display": false
  }
 },
 "nbformat": 4,
 "nbformat_minor": 4
}
