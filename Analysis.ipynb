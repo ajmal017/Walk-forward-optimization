{
 "cells": [
  {
   "cell_type": "markdown",
   "metadata": {
    "toc": true
   },
   "source": [
    "<h1>Table of Contents<span class=\"tocSkip\"></span></h1>\n",
    "<div class=\"toc\"><ul class=\"toc-item\"><li><span><a href=\"#Notebook-to-analyse-the-strategy\" data-toc-modified-id=\"Notebook-to-analyse-the-strategy-1\"><span class=\"toc-item-num\">1&nbsp;&nbsp;</span>Notebook to analyse the strategy</a></span></li><li><span><a href=\"#Analysis-of-performance-accross-periods\" data-toc-modified-id=\"Analysis-of-performance-accross-periods-2\"><span class=\"toc-item-num\">2&nbsp;&nbsp;</span>Analysis of performance accross periods</a></span><ul class=\"toc-item\"><li><span><a href=\"#Risk-Analysis\" data-toc-modified-id=\"Risk-Analysis-2.1\"><span class=\"toc-item-num\">2.1&nbsp;&nbsp;</span>Risk Analysis</a></span></li><li><span><a href=\"#Drawdown-Analysis\" data-toc-modified-id=\"Drawdown-Analysis-2.2\"><span class=\"toc-item-num\">2.2&nbsp;&nbsp;</span>Drawdown Analysis</a></span></li><li><span><a href=\"#Distribution-of-returns-of-buying-vs-shorting-the-market\" data-toc-modified-id=\"Distribution-of-returns-of-buying-vs-shorting-the-market-2.3\"><span class=\"toc-item-num\">2.3&nbsp;&nbsp;</span>Distribution of returns of buying vs shorting the market</a></span></li><li><span><a href=\"#Returns-when-shorting-the-market\" data-toc-modified-id=\"Returns-when-shorting-the-market-2.4\"><span class=\"toc-item-num\">2.4&nbsp;&nbsp;</span>Returns when shorting the market</a></span></li><li><span><a href=\"#Conclusions\" data-toc-modified-id=\"Conclusions-2.5\"><span class=\"toc-item-num\">2.5&nbsp;&nbsp;</span>Conclusions</a></span></li></ul></li></ul></div>"
   ]
  },
  {
   "cell_type": "markdown",
   "metadata": {},
   "source": [
    "## Notebook to analyse the strategy"
   ]
  },
  {
   "cell_type": "code",
   "execution_count": 1,
   "metadata": {
    "ExecuteTime": {
     "end_time": "2020-06-02T17:57:54.448760Z",
     "start_time": "2020-06-02T17:57:52.377547Z"
    }
   },
   "outputs": [],
   "source": [
    "%run Functions.ipynb"
   ]
  },
  {
   "cell_type": "code",
   "execution_count": 17,
   "metadata": {
    "ExecuteTime": {
     "end_time": "2020-06-02T18:02:15.669102Z",
     "start_time": "2020-06-02T18:02:15.656035Z"
    },
    "code_folding": [
     0
    ]
   },
   "outputs": [
    {
     "data": {
      "text/html": [
       "<style>.output_png img {display: block;margin-left: auto;margin-right: auto;text-align: center;vertical-align: middle;} </style>"
      ],
      "text/plain": [
       "<IPython.core.display.HTML object>"
      ]
     },
     "execution_count": 17,
     "metadata": {},
     "output_type": "execute_result"
    },
    {
     "name": "stdout",
     "output_type": "stream",
     "text": [
      "Settings imported correctly\n"
     ]
    }
   ],
   "source": [
    "# Settings for notebook visualization\n",
    "%matplotlib inline\n",
    "from IPython.core.interactiveshell import InteractiveShell\n",
    "InteractiveShell.ast_node_interactivity = 'all'\n",
    "from IPython.core.display import HTML\n",
    "HTML(\"\"\"<style>.output_png img {display: block;margin-left: auto;margin-right: auto;text-align: center;vertical-align: middle;} </style>\"\"\")\n",
    "print(\"Settings imported correctly\")"
   ]
  },
  {
   "cell_type": "code",
   "execution_count": 24,
   "metadata": {
    "ExecuteTime": {
     "end_time": "2020-06-02T18:06:43.702743Z",
     "start_time": "2020-06-02T18:06:43.696381Z"
    },
    "code_folding": [
     0
    ]
   },
   "outputs": [
    {
     "name": "stdout",
     "output_type": "stream",
     "text": [
      "Libraries imported correctly\n"
     ]
    }
   ],
   "source": [
    "# Necessary imports\n",
    "from collections import namedtuple\n",
    "import pandas as pd\n",
    "import quantstats as qs\n",
    "print(\"Libraries imported correctly\")"
   ]
  },
  {
   "cell_type": "code",
   "execution_count": 19,
   "metadata": {
    "ExecuteTime": {
     "end_time": "2020-06-02T18:02:30.226923Z",
     "start_time": "2020-06-02T18:02:30.212200Z"
    },
    "code_folding": [
     0
    ]
   },
   "outputs": [
    {
     "name": "stdout",
     "output_type": "stream",
     "text": [
      "Notebook parameters set correctly\n"
     ]
    }
   ],
   "source": [
    "# Settings for plot visualization\n",
    "qs.extend_pandas()\n",
    "plt.rcParams['figure.figsize'] = (20,6) # (26,12)\n",
    "\n",
    "for_github = False\n",
    "if for_github:\n",
    "    color = 'k' # Color for GitHub\n",
    "    plt.rcParams['legend.facecolor'] = 'w'# Color for GitHub\n",
    "else:\n",
    "    color = 'w' # Color for me\n",
    "    plt.rcParams['legend.facecolor'] = '#2f3540' # Color for me\n",
    "\n",
    "plt.rcParams['text.color'] = color\n",
    "plt.rcParams['xtick.color'] = color\n",
    "plt.rcParams['ytick.color'] = color\n",
    "plt.rcParams['axes.labelcolor'] = color\n",
    "\n",
    "SMALL_SIZE = 13\n",
    "MEDIUM_SIZE = 15\n",
    "BIG_SIZE = 17\n",
    "plt.rcParams['font.size'] = SMALL_SIZE\n",
    "plt.rcParams['axes.titlesize'] = BIG_SIZE\n",
    "plt.rcParams['axes.labelsize'] = MEDIUM_SIZE\n",
    "plt.rcParams['xtick.labelsize'] = MEDIUM_SIZE\n",
    "plt.rcParams['ytick.labelsize'] = MEDIUM_SIZE\n",
    "plt.rcParams['legend.fontsize'] = SMALL_SIZE\n",
    "plt.rcParams['figure.titlesize'] = BIG_SIZE\n",
    "\n",
    "np.set_printoptions(edgeitems=40, linewidth=1000)\n",
    "\n",
    "pd.set_option(\"display.precision\", 6)\n",
    "pd.set_option('display.max_columns', 500)\n",
    "pd.set_option('display.width', 1000)\n",
    "print(\"Notebook parameters set correctly\")"
   ]
  },
  {
   "cell_type": "code",
   "execution_count": 22,
   "metadata": {
    "ExecuteTime": {
     "end_time": "2020-06-02T18:02:54.311571Z",
     "start_time": "2020-06-02T18:02:54.221768Z"
    }
   },
   "outputs": [
    {
     "data": {
      "text/html": [
       "<div>\n",
       "<style scoped>\n",
       "    .dataframe tbody tr th:only-of-type {\n",
       "        vertical-align: middle;\n",
       "    }\n",
       "\n",
       "    .dataframe tbody tr th {\n",
       "        vertical-align: top;\n",
       "    }\n",
       "\n",
       "    .dataframe thead th {\n",
       "        text-align: right;\n",
       "    }\n",
       "</style>\n",
       "<table border=\"1\" class=\"dataframe\">\n",
       "  <thead>\n",
       "    <tr style=\"text-align: right;\">\n",
       "      <th></th>\n",
       "      <th>Close</th>\n",
       "      <th>Market_daily_ret</th>\n",
       "      <th>Strat_daily_ret</th>\n",
       "      <th>Strat_position</th>\n",
       "      <th>Long_only</th>\n",
       "      <th>Costs</th>\n",
       "      <th>Market_cum_ret</th>\n",
       "      <th>Strat_cum_ret</th>\n",
       "    </tr>\n",
       "  </thead>\n",
       "  <tbody>\n",
       "    <tr>\n",
       "      <th>1953-01-02</th>\n",
       "      <td>26.540001</td>\n",
       "      <td>-0.001129</td>\n",
       "      <td>-0.000112</td>\n",
       "      <td>1</td>\n",
       "      <td>0</td>\n",
       "      <td>0.000112</td>\n",
       "      <td>99.887095</td>\n",
       "      <td>99.988846</td>\n",
       "    </tr>\n",
       "  </tbody>\n",
       "</table>\n",
       "</div>"
      ],
      "text/plain": [
       "                Close  Market_daily_ret  Strat_daily_ret  Strat_position  Long_only     Costs  Market_cum_ret  Strat_cum_ret\n",
       "1953-01-02  26.540001         -0.001129        -0.000112               1          0  0.000112       99.887095      99.988846"
      ]
     },
     "execution_count": 22,
     "metadata": {},
     "output_type": "execute_result"
    },
    {
     "data": {
      "text/html": [
       "<div>\n",
       "<style scoped>\n",
       "    .dataframe tbody tr th:only-of-type {\n",
       "        vertical-align: middle;\n",
       "    }\n",
       "\n",
       "    .dataframe tbody tr th {\n",
       "        vertical-align: top;\n",
       "    }\n",
       "\n",
       "    .dataframe thead th {\n",
       "        text-align: right;\n",
       "    }\n",
       "</style>\n",
       "<table border=\"1\" class=\"dataframe\">\n",
       "  <thead>\n",
       "    <tr style=\"text-align: right;\">\n",
       "      <th></th>\n",
       "      <th>Close</th>\n",
       "      <th>Market_daily_ret</th>\n",
       "      <th>Strat_daily_ret</th>\n",
       "      <th>Strat_position</th>\n",
       "      <th>Long_only</th>\n",
       "      <th>Costs</th>\n",
       "      <th>Market_cum_ret</th>\n",
       "      <th>Strat_cum_ret</th>\n",
       "    </tr>\n",
       "  </thead>\n",
       "  <tbody>\n",
       "    <tr>\n",
       "      <th>2020-06-01</th>\n",
       "      <td>3058.600098</td>\n",
       "      <td>0.004694</td>\n",
       "      <td>0.004694</td>\n",
       "      <td>1</td>\n",
       "      <td>0</td>\n",
       "      <td>0.0</td>\n",
       "      <td>11511.479612</td>\n",
       "      <td>38786.309717</td>\n",
       "    </tr>\n",
       "  </tbody>\n",
       "</table>\n",
       "</div>"
      ],
      "text/plain": [
       "                  Close  Market_daily_ret  Strat_daily_ret  Strat_position  Long_only  Costs  Market_cum_ret  Strat_cum_ret\n",
       "2020-06-01  3058.600098          0.004694         0.004694               1          0    0.0    11511.479612   38786.309717"
      ]
     },
     "execution_count": 22,
     "metadata": {},
     "output_type": "execute_result"
    }
   ],
   "source": [
    "df = pd.read_csv(\"Strategy returns.csv\", parse_dates=True, index_col=0)\n",
    "\n",
    "df.head(1)\n",
    "df.tail(1)"
   ]
  },
  {
   "cell_type": "markdown",
   "metadata": {},
   "source": [
    "## Analysis of performance accross periods"
   ]
  },
  {
   "cell_type": "code",
   "execution_count": 32,
   "metadata": {
    "ExecuteTime": {
     "end_time": "2020-06-02T18:13:51.558063Z",
     "start_time": "2020-06-02T18:13:51.520844Z"
    }
   },
   "outputs": [
    {
     "data": {
      "text/plain": [
       "'1953-1959'"
      ]
     },
     "execution_count": 32,
     "metadata": {},
     "output_type": "execute_result"
    },
    {
     "data": {
      "text/html": [
       "<div>\n",
       "<style scoped>\n",
       "    .dataframe tbody tr th:only-of-type {\n",
       "        vertical-align: middle;\n",
       "    }\n",
       "\n",
       "    .dataframe tbody tr th {\n",
       "        vertical-align: top;\n",
       "    }\n",
       "\n",
       "    .dataframe thead th {\n",
       "        text-align: right;\n",
       "    }\n",
       "</style>\n",
       "<table border=\"1\" class=\"dataframe\">\n",
       "  <thead>\n",
       "    <tr style=\"text-align: right;\">\n",
       "      <th></th>\n",
       "      <th>Close</th>\n",
       "      <th>Market_daily_ret</th>\n",
       "      <th>Strat_daily_ret</th>\n",
       "      <th>Strat_position</th>\n",
       "      <th>Long_only</th>\n",
       "      <th>Costs</th>\n",
       "      <th>Market_cum_ret</th>\n",
       "      <th>Strat_cum_ret</th>\n",
       "    </tr>\n",
       "  </thead>\n",
       "  <tbody>\n",
       "    <tr>\n",
       "      <th>1953-01-02</th>\n",
       "      <td>26.540001</td>\n",
       "      <td>-0.001129</td>\n",
       "      <td>-0.000112</td>\n",
       "      <td>1</td>\n",
       "      <td>0</td>\n",
       "      <td>0.000112</td>\n",
       "      <td>99.887095</td>\n",
       "      <td>99.988846</td>\n",
       "    </tr>\n",
       "    <tr>\n",
       "      <th>1959-12-31</th>\n",
       "      <td>59.889999</td>\n",
       "      <td>0.002008</td>\n",
       "      <td>0.002008</td>\n",
       "      <td>1</td>\n",
       "      <td>0</td>\n",
       "      <td>0.000000</td>\n",
       "      <td>225.404592</td>\n",
       "      <td>183.600288</td>\n",
       "    </tr>\n",
       "  </tbody>\n",
       "</table>\n",
       "</div>"
      ],
      "text/plain": [
       "                Close  Market_daily_ret  Strat_daily_ret  Strat_position  Long_only     Costs  Market_cum_ret  Strat_cum_ret\n",
       "1953-01-02  26.540001         -0.001129        -0.000112               1          0  0.000112       99.887095      99.988846\n",
       "1959-12-31  59.889999          0.002008         0.002008               1          0  0.000000      225.404592     183.600288"
      ]
     },
     "execution_count": 32,
     "metadata": {},
     "output_type": "execute_result"
    }
   ],
   "source": [
    "names = ['1953-1959', '1960-1982', '1983-1999', '2000-2002', '2003-2020', '2020-2020']\n",
    "ini = ['1953', '1960', '1983', '2000', '2003', '2020']\n",
    "end = ['1959', '1982', '1999', '2002', '2019', '2020']\n",
    "periods = []\n",
    "\n",
    "PeriodDataTuple = namedtuple('Data', [\"name\", \"df\"])\n",
    "\n",
    "for i in range(len(ini)):\n",
    "    periods.append(PeriodDataTuple(names[i], df.loc[ini[i]:end[i]].copy()))\n",
    "\n",
    "periods[0].name\n",
    "periods[0].df.iloc[[0,-1]]\n",
    "\n",
    "# print(\"SR:\")\n",
    "# for p in periods:\n",
    "#     print(p.name + \": {:.2f}\".format(p.df['Strat_daily_ret'].sharpe()))"
   ]
  },
  {
   "cell_type": "markdown",
   "metadata": {},
   "source": [
    "### Risk Analysis"
   ]
  },
  {
   "cell_type": "code",
   "execution_count": 40,
   "metadata": {
    "ExecuteTime": {
     "end_time": "2020-06-02T18:30:31.981516Z",
     "start_time": "2020-06-02T18:30:31.225085Z"
    }
   },
   "outputs": [
    {
     "data": {
      "text/html": [
       "<div>\n",
       "<style scoped>\n",
       "    .dataframe tbody tr th:only-of-type {\n",
       "        vertical-align: middle;\n",
       "    }\n",
       "\n",
       "    .dataframe tbody tr th {\n",
       "        vertical-align: top;\n",
       "    }\n",
       "\n",
       "    .dataframe thead th {\n",
       "        text-align: right;\n",
       "    }\n",
       "</style>\n",
       "<table border=\"1\" class=\"dataframe\">\n",
       "  <thead>\n",
       "    <tr style=\"text-align: right;\">\n",
       "      <th></th>\n",
       "      <th>SR</th>\n",
       "      <th>Max_DD</th>\n",
       "      <th>Risk_of_ruin</th>\n",
       "      <th>VAR(90%)</th>\n",
       "      <th>VAR(95%)</th>\n",
       "      <th>VAR(99%)</th>\n",
       "      <th>Expected_shortfall</th>\n",
       "      <th>Outlier_win_ratio</th>\n",
       "      <th>Outlier_loss_ratio</th>\n",
       "      <th>Recovery_factor</th>\n",
       "      <th>Information_ratio</th>\n",
       "    </tr>\n",
       "  </thead>\n",
       "  <tbody>\n",
       "    <tr>\n",
       "      <th>1953-1959</th>\n",
       "      <td>1.114961</td>\n",
       "      <td>-0.133392</td>\n",
       "      <td>0.000000e+00</td>\n",
       "      <td>-0.006169</td>\n",
       "      <td>-0.008019</td>\n",
       "      <td>-0.011490</td>\n",
       "      <td>-0.012756</td>\n",
       "      <td>5.183199</td>\n",
       "      <td>3.492764</td>\n",
       "      <td>6.267275</td>\n",
       "      <td>-0.025272</td>\n",
       "    </tr>\n",
       "    <tr>\n",
       "      <th>1960-1982</th>\n",
       "      <td>1.618982</td>\n",
       "      <td>-0.141408</td>\n",
       "      <td>0.000000e+00</td>\n",
       "      <td>-0.006311</td>\n",
       "      <td>-0.008255</td>\n",
       "      <td>-0.011901</td>\n",
       "      <td>-0.012866</td>\n",
       "      <td>7.404844</td>\n",
       "      <td>4.183931</td>\n",
       "      <td>144.855172</td>\n",
       "      <td>0.062049</td>\n",
       "    </tr>\n",
       "    <tr>\n",
       "      <th>1983-1999</th>\n",
       "      <td>0.858675</td>\n",
       "      <td>-0.333419</td>\n",
       "      <td>0.000000e+00</td>\n",
       "      <td>-0.010729</td>\n",
       "      <td>-0.013905</td>\n",
       "      <td>-0.019862</td>\n",
       "      <td>-0.022528</td>\n",
       "      <td>4.671014</td>\n",
       "      <td>3.789504</td>\n",
       "      <td>16.334358</td>\n",
       "      <td>-0.027130</td>\n",
       "    </tr>\n",
       "    <tr>\n",
       "      <th>2000-2002</th>\n",
       "      <td>-0.305582</td>\n",
       "      <td>-0.349545</td>\n",
       "      <td>0.000000e+00</td>\n",
       "      <td>-0.014546</td>\n",
       "      <td>-0.018608</td>\n",
       "      <td>-0.026229</td>\n",
       "      <td>-0.025845</td>\n",
       "      <td>6.514426</td>\n",
       "      <td>2.828585</td>\n",
       "      <td>-0.539239</td>\n",
       "      <td>0.037565</td>\n",
       "    </tr>\n",
       "    <tr>\n",
       "      <th>2003-2020</th>\n",
       "      <td>0.303268</td>\n",
       "      <td>-0.512266</td>\n",
       "      <td>0.000000e+00</td>\n",
       "      <td>-0.011858</td>\n",
       "      <td>-0.015271</td>\n",
       "      <td>-0.021672</td>\n",
       "      <td>-0.025712</td>\n",
       "      <td>5.323000</td>\n",
       "      <td>4.134012</td>\n",
       "      <td>1.529868</td>\n",
       "      <td>-0.029853</td>\n",
       "    </tr>\n",
       "    <tr>\n",
       "      <th>2020-2020</th>\n",
       "      <td>0.712580</td>\n",
       "      <td>-0.076791</td>\n",
       "      <td>1.849405e-45</td>\n",
       "      <td>-0.016234</td>\n",
       "      <td>-0.021003</td>\n",
       "      <td>-0.029949</td>\n",
       "      <td>-0.031786</td>\n",
       "      <td>5.590427</td>\n",
       "      <td>3.917484</td>\n",
       "      <td>0.701231</td>\n",
       "      <td>0.023120</td>\n",
       "    </tr>\n",
       "  </tbody>\n",
       "</table>\n",
       "</div>"
      ],
      "text/plain": [
       "                 SR    Max_DD  Risk_of_ruin  VAR(90%)  VAR(95%)  VAR(99%)  Expected_shortfall  Outlier_win_ratio  Outlier_loss_ratio  Recovery_factor  Information_ratio\n",
       "1953-1959  1.114961 -0.133392  0.000000e+00 -0.006169 -0.008019 -0.011490           -0.012756           5.183199            3.492764         6.267275          -0.025272\n",
       "1960-1982  1.618982 -0.141408  0.000000e+00 -0.006311 -0.008255 -0.011901           -0.012866           7.404844            4.183931       144.855172           0.062049\n",
       "1983-1999  0.858675 -0.333419  0.000000e+00 -0.010729 -0.013905 -0.019862           -0.022528           4.671014            3.789504        16.334358          -0.027130\n",
       "2000-2002 -0.305582 -0.349545  0.000000e+00 -0.014546 -0.018608 -0.026229           -0.025845           6.514426            2.828585        -0.539239           0.037565\n",
       "2003-2020  0.303268 -0.512266  0.000000e+00 -0.011858 -0.015271 -0.021672           -0.025712           5.323000            4.134012         1.529868          -0.029853\n",
       "2020-2020  0.712580 -0.076791  1.849405e-45 -0.016234 -0.021003 -0.029949           -0.031786           5.590427            3.917484         0.701231           0.023120"
      ]
     },
     "execution_count": 40,
     "metadata": {},
     "output_type": "execute_result"
    }
   ],
   "source": [
    "%run Functions.ipynb\n",
    "\n",
    "# SR, MAX_DD, risk_of_ruin, VAR(90%), VAR(95%), VAR(99%), expected_shortfall, outlier_win_ratio, outlier_loss_ratio, recovery_factor, information_ratio\n",
    "\n",
    "col_data = [p.df['Strat_daily_ret'].sharpe() for p in periods]\n",
    "risk_metrics = pd.DataFrame(data=col_data, index=names, columns=['SR'])\n",
    "\n",
    "col_data = pd.Series(index=names, data=[p.df['Strat_daily_ret'].max_drawdown() for p in periods], name=\"Max_DD\")\n",
    "risk_metrics = pd.concat([risk_metrics,col_data], axis=1)\n",
    "\n",
    "col_data = pd.Series(index=names, data=[p.df['Strat_daily_ret'].risk_of_ruin() for p in periods], name=\"Risk_of_ruin\")\n",
    "risk_metrics = pd.concat([risk_metrics,col_data], axis=1)\n",
    "\n",
    "col_data = pd.Series(index=names, data=[p.df['Strat_daily_ret'].value_at_risk(confidence=0.90) for p in periods], name=\"VAR(90%)\")\n",
    "risk_metrics = pd.concat([risk_metrics,col_data], axis=1)\n",
    "col_data = pd.Series(index=names, data=[p.df['Strat_daily_ret'].value_at_risk(confidence=0.95) for p in periods], name=\"VAR(95%)\")\n",
    "risk_metrics = pd.concat([risk_metrics,col_data], axis=1)\n",
    "col_data = pd.Series(index=names, data=[p.df['Strat_daily_ret'].value_at_risk(confidence=0.99) for p in periods], name=\"VAR(99%)\")\n",
    "risk_metrics = pd.concat([risk_metrics,col_data], axis=1)\n",
    "\n",
    "col_data = pd.Series(index=names, data=[p.df['Strat_daily_ret'].expected_shortfall() for p in periods], name=\"Expected_shortfall\")\n",
    "risk_metrics = pd.concat([risk_metrics,col_data], axis=1)\n",
    "\n",
    "col_data = pd.Series(index=names, data=[p.df['Strat_daily_ret'].outlier_win_ratio() for p in periods], name=\"Outlier_win_ratio\")\n",
    "risk_metrics = pd.concat([risk_metrics,col_data], axis=1)\n",
    "col_data = pd.Series(index=names, data=[p.df['Strat_daily_ret'].outlier_loss_ratio() for p in periods], name=\"Outlier_loss_ratio\")\n",
    "risk_metrics = pd.concat([risk_metrics,col_data], axis=1)\n",
    "\n",
    "col_data = pd.Series(index=names, data=[p.df['Strat_daily_ret'].recovery_factor() for p in periods], name=\"Recovery_factor\")\n",
    "risk_metrics = pd.concat([risk_metrics,col_data], axis=1)\n",
    "\n",
    "col_data = pd.Series(index=names, data=[p.df['Strat_daily_ret'].information_ratio(\n",
    "    benchmark=p.df['Market_daily_ret']) for p in periods],\n",
    "                     name=\"Information_ratio\")\n",
    "risk_metrics = pd.concat([risk_metrics,col_data], axis=1)\n",
    "\n",
    "risk_metrics\n",
    "\n",
    "risk_metrics.round(5).to_excel('Risk_metrics.xlsx')"
   ]
  },
  {
   "cell_type": "markdown",
   "metadata": {},
   "source": [
    "### Drawdown Analysis"
   ]
  },
  {
   "cell_type": "code",
   "execution_count": null,
   "metadata": {},
   "outputs": [],
   "source": [
    "#sort_values(by=['days'], axis=1)\n",
    "qs.stats.drawdown_details(html_df.loc['2020', 'Strat_daily_ret']).sort_values(by='days', ascending=False)"
   ]
  },
  {
   "cell_type": "code",
   "execution_count": null,
   "metadata": {},
   "outputs": [],
   "source": []
  },
  {
   "cell_type": "markdown",
   "metadata": {},
   "source": [
    "### Distribution of returns of buying vs shorting the market"
   ]
  },
  {
   "cell_type": "code",
   "execution_count": null,
   "metadata": {
    "ExecuteTime": {
     "end_time": "2020-06-02T14:59:58.855112Z",
     "start_time": "2020-06-02T14:59:58.843119Z"
    }
   },
   "outputs": [],
   "source": [
    "highest = max(np.abs(df['Market_daily_ret'].min()), df['Market_daily_ret'].max()).round(2)\n",
    "lowest = -highest\n",
    "bins = np.arange(lowest, highest, 0.01)\n",
    "bins.round(3)"
   ]
  },
  {
   "cell_type": "code",
   "execution_count": null,
   "metadata": {
    "ExecuteTime": {
     "end_time": "2020-06-02T15:01:02.621941Z",
     "start_time": "2020-06-02T15:01:01.262439Z"
    }
   },
   "outputs": [],
   "source": [
    "groups = df.groupby('Strat_position')\n",
    "groups.get_group(1)['Strat_daily_ret'].plot(kind='hist', bins=bins, figsize=(14,6), title=\"Strat_daily_ret when buying the market (Strat_position=1)\")\n",
    "plt.show()\n",
    "groups.get_group(0)['Strat_daily_ret'].plot(kind='hist', bins=bins, figsize=(14,6), title=\"Strat_daily_ret when shorting the market (Strat_position=-1)\")"
   ]
  },
  {
   "cell_type": "code",
   "execution_count": null,
   "metadata": {
    "ExecuteTime": {
     "end_time": "2020-05-27T11:02:41.603869Z",
     "start_time": "2020-05-27T11:02:40.476102Z"
    }
   },
   "outputs": [],
   "source": [
    "ini_equity = 100\n",
    "df_short = results_df.loc[: ,['Close', 'Market_daily_ret', 'Strat_position', 'Costs']].copy()\n",
    "df_short['Strat_position'].replace({-1:0}, inplace=True)\n",
    "df_short['Costs'] = df_short['Costs'].div(2) \n",
    "\n",
    "first_day = str(df_short.index.min())\n",
    "\n",
    "\n",
    "df_short['Strat_daily_ret'] = df_short['Market_daily_ret'].mul(df_short['Strat_position'].shift(1).fillna(0)).sub(df_short['Costs'])\n",
    "\n",
    "df_short['Market_cum_ret'] = df_short['Market_daily_ret'].add(1).cumprod().mul(ini_equity)\n",
    "df_short['Strat_cum_ret'] = df_short['Strat_daily_ret'].add(1).cumprod().mul(ini_equity)\n",
    "df_short.loc[first_day, 'Market_cum_ret'] = ini_equity + df_short.loc[first_day, 'Market_daily_ret'] * ini_equity\n",
    "df_short.loc[first_day, 'Strat_cum_ret'] = ini_equity + df_short.loc[first_day,'Strat_daily_ret'] * ini_equity\n",
    "\n",
    "#df_short['1976-06-22':'1976-06']\n",
    "df_short[['Strat_cum_ret', 'Strat_position']].plot(secondary_y=['Strat_position'], title='Strategy Postition and costs', color=['tab:orange', 'g'])"
   ]
  },
  {
   "cell_type": "markdown",
   "metadata": {},
   "source": [
    "### Returns when shorting the market"
   ]
  },
  {
   "cell_type": "code",
   "execution_count": null,
   "metadata": {
    "ExecuteTime": {
     "end_time": "2020-05-27T11:02:49.175742Z",
     "start_time": "2020-05-27T11:02:48.578798Z"
    }
   },
   "outputs": [],
   "source": [
    "df_short = results_df.loc[: ,['Market_daily_ret', 'Strat_daily_ret', 'Strat_position', 'Market_cum_ret']].copy()\n",
    "ini_equity = 100\n",
    "first_day = str(df_short.index.min())\n",
    "\n",
    "df_short = results_df.loc[: ,['Close', 'Market_daily_ret', 'Strat_position', 'Costs']].copy()\n",
    "df_short['Strat_position'].replace({1:0}, inplace=True)\n",
    "df_short['Costs'] = df_short['Costs'].div(2) \n",
    "\n",
    "df_short['Strat_daily_ret'] = df_short['Market_daily_ret'].mul(df_short['Strat_position'].shift(1).fillna(0)).sub(df_short['Costs'])\n",
    "\n",
    "df_short['Market_cum_ret'] = df_short['Market_daily_ret'].add(1).cumprod().mul(ini_equity)\n",
    "df_short['Strat_cum_ret'] = df_short['Strat_daily_ret'].add(1).cumprod().mul(ini_equity)\n",
    "df_short.loc[first_day, 'Market_cum_ret'] = ini_equity + df_short.loc[first_day, 'Market_daily_ret'] * ini_equity\n",
    "df_short.loc[first_day, 'Strat_cum_ret'] = ini_equity + df_short.loc[first_day,'Strat_daily_ret'] * ini_equity\n",
    "\n",
    "#df_short[['Strat_cum_ret', 'Strat_position']].plot(subplots=['Strat_position'], title='Strategy Postition and costs', color=['tab:orange', 'g'])\n",
    "df_short[['Strat_cum_ret']].plot(title='Strategy Postition = -1', color=['tab:orange'])"
   ]
  },
  {
   "cell_type": "markdown",
   "metadata": {},
   "source": [
    "### Conclusions"
   ]
  },
  {
   "cell_type": "markdown",
   "metadata": {},
   "source": [
    "- Shorting the market only works in the period 1973-1983. Year 2002 also delivers very good results. I don´t think it makes sense to keep this (increase of volatility, and no additional profits)\n",
    "- This explains the results of the whole backtest:\n",
    "    - Overperforming the benchmark in 1973-1983 and 2002.\n",
    "    - (Mostly) Equal, or underperforming the rest of the years"
   ]
  },
  {
   "cell_type": "code",
   "execution_count": null,
   "metadata": {},
   "outputs": [],
   "source": []
  }
 ],
 "metadata": {
  "kernelspec": {
   "display_name": "py37",
   "language": "python",
   "name": "py37"
  },
  "language_info": {
   "codemirror_mode": {
    "name": "ipython",
    "version": 3
   },
   "file_extension": ".py",
   "mimetype": "text/x-python",
   "name": "python",
   "nbconvert_exporter": "python",
   "pygments_lexer": "ipython3",
   "version": "3.7.4"
  },
  "toc": {
   "base_numbering": 1,
   "nav_menu": {},
   "number_sections": true,
   "sideBar": true,
   "skip_h1_title": false,
   "title_cell": "Table of Contents",
   "title_sidebar": "Contents",
   "toc_cell": true,
   "toc_position": {
    "height": "calc(100% - 180px)",
    "left": "10px",
    "top": "150px",
    "width": "320px"
   },
   "toc_section_display": true,
   "toc_window_display": false
  },
  "varInspector": {
   "cols": {
    "lenName": "8",
    "lenType": 16,
    "lenVar": 40
   },
   "kernels_config": {
    "python": {
     "delete_cmd_postfix": "",
     "delete_cmd_prefix": "del ",
     "library": "var_list.py",
     "varRefreshCmd": "print(var_dic_list())"
    },
    "r": {
     "delete_cmd_postfix": ") ",
     "delete_cmd_prefix": "rm(",
     "library": "var_list.r",
     "varRefreshCmd": "cat(var_dic_list()) "
    }
   },
   "oldHeight": 623.477,
   "position": {
    "height": "645.977px",
    "left": "1211.04px",
    "right": "20px",
    "top": "120px",
    "width": "368.965px"
   },
   "types_to_exclude": [
    "module",
    "function",
    "builtin_function_or_method",
    "instance",
    "_Feature"
   ],
   "varInspector_section_display": "block",
   "window_display": false
  }
 },
 "nbformat": 4,
 "nbformat_minor": 4
}
